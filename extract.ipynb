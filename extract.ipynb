{
  "cells": [
    {
      "cell_type": "code",
      "execution_count": 4,
      "metadata": {
        "colab": {
          "base_uri": "https://localhost:8080/",
          "height": 206
        },
        "id": "8DDpVPWD-ZS5",
        "outputId": "a86e36d7-4aca-4570-9306-b5c5dbc8d2e7"
      },
      "outputs": [
        {
          "data": {
            "text/html": [
              "<div>\n",
              "<style scoped>\n",
              "    .dataframe tbody tr th:only-of-type {\n",
              "        vertical-align: middle;\n",
              "    }\n",
              "\n",
              "    .dataframe tbody tr th {\n",
              "        vertical-align: top;\n",
              "    }\n",
              "\n",
              "    .dataframe thead th {\n",
              "        text-align: right;\n",
              "    }\n",
              "</style>\n",
              "<table border=\"1\" class=\"dataframe\">\n",
              "  <thead>\n",
              "    <tr style=\"text-align: right;\">\n",
              "      <th></th>\n",
              "      <th>First Name</th>\n",
              "      <th>Last Name</th>\n",
              "      <th>Email</th>\n",
              "      <th>Application Date</th>\n",
              "      <th>Country</th>\n",
              "      <th>YOE</th>\n",
              "      <th>Seniority</th>\n",
              "      <th>Technology</th>\n",
              "      <th>Code Challenge Score</th>\n",
              "      <th>Technical Interview Score</th>\n",
              "    </tr>\n",
              "  </thead>\n",
              "  <tbody>\n",
              "    <tr>\n",
              "      <th>0</th>\n",
              "      <td>Bernadette</td>\n",
              "      <td>Langworth</td>\n",
              "      <td>leonard91@yahoo.com</td>\n",
              "      <td>2021-02-26</td>\n",
              "      <td>Norway</td>\n",
              "      <td>2</td>\n",
              "      <td>Intern</td>\n",
              "      <td>Data Engineer</td>\n",
              "      <td>3</td>\n",
              "      <td>3</td>\n",
              "    </tr>\n",
              "    <tr>\n",
              "      <th>1</th>\n",
              "      <td>Camryn</td>\n",
              "      <td>Reynolds</td>\n",
              "      <td>zelda56@hotmail.com</td>\n",
              "      <td>2021-09-09</td>\n",
              "      <td>Panama</td>\n",
              "      <td>10</td>\n",
              "      <td>Intern</td>\n",
              "      <td>Data Engineer</td>\n",
              "      <td>2</td>\n",
              "      <td>10</td>\n",
              "    </tr>\n",
              "    <tr>\n",
              "      <th>2</th>\n",
              "      <td>Larue</td>\n",
              "      <td>Spinka</td>\n",
              "      <td>okey_schultz41@gmail.com</td>\n",
              "      <td>2020-04-14</td>\n",
              "      <td>Belarus</td>\n",
              "      <td>4</td>\n",
              "      <td>Mid-Level</td>\n",
              "      <td>Client Success</td>\n",
              "      <td>10</td>\n",
              "      <td>9</td>\n",
              "    </tr>\n",
              "    <tr>\n",
              "      <th>3</th>\n",
              "      <td>Arch</td>\n",
              "      <td>Spinka</td>\n",
              "      <td>elvera_kulas@yahoo.com</td>\n",
              "      <td>2020-10-01</td>\n",
              "      <td>Eritrea</td>\n",
              "      <td>25</td>\n",
              "      <td>Trainee</td>\n",
              "      <td>QA Manual</td>\n",
              "      <td>7</td>\n",
              "      <td>1</td>\n",
              "    </tr>\n",
              "    <tr>\n",
              "      <th>4</th>\n",
              "      <td>Larue</td>\n",
              "      <td>Altenwerth</td>\n",
              "      <td>minnie.gislason@gmail.com</td>\n",
              "      <td>2020-05-20</td>\n",
              "      <td>Myanmar</td>\n",
              "      <td>13</td>\n",
              "      <td>Mid-Level</td>\n",
              "      <td>Social Media Community Management</td>\n",
              "      <td>9</td>\n",
              "      <td>7</td>\n",
              "    </tr>\n",
              "  </tbody>\n",
              "</table>\n",
              "</div>"
            ],
            "text/plain": [
              "   First Name   Last Name                      Email Application Date  \\\n",
              "0  Bernadette   Langworth        leonard91@yahoo.com       2021-02-26   \n",
              "1      Camryn    Reynolds        zelda56@hotmail.com       2021-09-09   \n",
              "2       Larue      Spinka   okey_schultz41@gmail.com       2020-04-14   \n",
              "3        Arch      Spinka     elvera_kulas@yahoo.com       2020-10-01   \n",
              "4       Larue  Altenwerth  minnie.gislason@gmail.com       2020-05-20   \n",
              "\n",
              "   Country  YOE  Seniority                         Technology  \\\n",
              "0   Norway    2     Intern                      Data Engineer   \n",
              "1   Panama   10     Intern                      Data Engineer   \n",
              "2  Belarus    4  Mid-Level                     Client Success   \n",
              "3  Eritrea   25    Trainee                          QA Manual   \n",
              "4  Myanmar   13  Mid-Level  Social Media Community Management   \n",
              "\n",
              "   Code Challenge Score  Technical Interview Score  \n",
              "0                     3                          3  \n",
              "1                     2                         10  \n",
              "2                    10                          9  \n",
              "3                     7                          1  \n",
              "4                     9                          7  "
            ]
          },
          "execution_count": 4,
          "metadata": {},
          "output_type": "execute_result"
        }
      ],
      "source": [
        "import pandas as pd\n",
        "\n",
        "df = pd.read_csv(\"raw_data/candidates.csv\", delimiter=';',encoding='unicode_escape')\n",
        "df.head()"
      ]
    },
    {
      "cell_type": "code",
      "execution_count": 5,
      "metadata": {
        "colab": {
          "base_uri": "https://localhost:8080/"
        },
        "id": "AggpzhRb_INp",
        "outputId": "174cbbb5-1715-4ade-9ab7-6c57be0965ca"
      },
      "outputs": [
        {
          "name": "stdout",
          "output_type": "stream",
          "text": [
            "<class 'pandas.core.frame.DataFrame'>\n",
            "RangeIndex: 50000 entries, 0 to 49999\n",
            "Data columns (total 10 columns):\n",
            " #   Column                     Non-Null Count  Dtype \n",
            "---  ------                     --------------  ----- \n",
            " 0   First Name                 50000 non-null  object\n",
            " 1   Last Name                  50000 non-null  object\n",
            " 2   Email                      50000 non-null  object\n",
            " 3   Application Date           50000 non-null  object\n",
            " 4   Country                    50000 non-null  object\n",
            " 5   YOE                        50000 non-null  int64 \n",
            " 6   Seniority                  50000 non-null  object\n",
            " 7   Technology                 50000 non-null  object\n",
            " 8   Code Challenge Score       50000 non-null  int64 \n",
            " 9   Technical Interview Score  50000 non-null  int64 \n",
            "dtypes: int64(3), object(7)\n",
            "memory usage: 3.8+ MB\n"
          ]
        }
      ],
      "source": [
        "df.info()"
      ]
    },
    {
      "cell_type": "code",
      "execution_count": 6,
      "metadata": {},
      "outputs": [
        {
          "data": {
            "text/plain": [
              "First Name                   0\n",
              "Last Name                    0\n",
              "Email                        0\n",
              "Application Date             0\n",
              "Country                      0\n",
              "YOE                          0\n",
              "Seniority                    0\n",
              "Technology                   0\n",
              "Code Challenge Score         0\n",
              "Technical Interview Score    0\n",
              "dtype: int64"
            ]
          },
          "execution_count": 6,
          "metadata": {},
          "output_type": "execute_result"
        }
      ],
      "source": [
        "df.isnull().sum()"
      ]
    },
    {
      "cell_type": "markdown",
      "metadata": {},
      "source": [
        "With the info shown using the function `df.info()` and `df.isnull().sum()` we can tell that the dataset has no null values and also has 2 type of values (Objects and integers)"
      ]
    },
    {
      "cell_type": "markdown",
      "metadata": {},
      "source": [
        "In order to obtain Year date we gonna convert that value to datetime and create its own column"
      ]
    },
    {
      "cell_type": "code",
      "execution_count": 7,
      "metadata": {},
      "outputs": [],
      "source": [
        "df['Application Date'] = pd.to_datetime(df['Application Date'], errors='coerce')"
      ]
    },
    {
      "cell_type": "code",
      "execution_count": 8,
      "metadata": {},
      "outputs": [],
      "source": [
        "df['Application Year'] = df['Application Date'].dt.year"
      ]
    },
    {
      "cell_type": "code",
      "execution_count": 15,
      "metadata": {},
      "outputs": [
        {
          "data": {
            "text/html": [
              "<div>\n",
              "<style scoped>\n",
              "    .dataframe tbody tr th:only-of-type {\n",
              "        vertical-align: middle;\n",
              "    }\n",
              "\n",
              "    .dataframe tbody tr th {\n",
              "        vertical-align: top;\n",
              "    }\n",
              "\n",
              "    .dataframe thead th {\n",
              "        text-align: right;\n",
              "    }\n",
              "</style>\n",
              "<table border=\"1\" class=\"dataframe\">\n",
              "  <thead>\n",
              "    <tr style=\"text-align: right;\">\n",
              "      <th></th>\n",
              "      <th>First Name</th>\n",
              "      <th>Last Name</th>\n",
              "      <th>Email</th>\n",
              "      <th>Application Date</th>\n",
              "      <th>Country</th>\n",
              "      <th>YOE</th>\n",
              "      <th>Seniority</th>\n",
              "      <th>Technology</th>\n",
              "      <th>Code Challenge Score</th>\n",
              "      <th>Technical Interview Score</th>\n",
              "      <th>Application Year</th>\n",
              "    </tr>\n",
              "  </thead>\n",
              "  <tbody>\n",
              "    <tr>\n",
              "      <th>0</th>\n",
              "      <td>Bernadette</td>\n",
              "      <td>Langworth</td>\n",
              "      <td>leonard91@yahoo.com</td>\n",
              "      <td>2021-02-26</td>\n",
              "      <td>Norway</td>\n",
              "      <td>2</td>\n",
              "      <td>Intern</td>\n",
              "      <td>Data Engineer</td>\n",
              "      <td>3</td>\n",
              "      <td>3</td>\n",
              "      <td>2021</td>\n",
              "    </tr>\n",
              "    <tr>\n",
              "      <th>1</th>\n",
              "      <td>Camryn</td>\n",
              "      <td>Reynolds</td>\n",
              "      <td>zelda56@hotmail.com</td>\n",
              "      <td>2021-09-09</td>\n",
              "      <td>Panama</td>\n",
              "      <td>10</td>\n",
              "      <td>Intern</td>\n",
              "      <td>Data Engineer</td>\n",
              "      <td>2</td>\n",
              "      <td>10</td>\n",
              "      <td>2021</td>\n",
              "    </tr>\n",
              "    <tr>\n",
              "      <th>2</th>\n",
              "      <td>Larue</td>\n",
              "      <td>Spinka</td>\n",
              "      <td>okey_schultz41@gmail.com</td>\n",
              "      <td>2020-04-14</td>\n",
              "      <td>Belarus</td>\n",
              "      <td>4</td>\n",
              "      <td>Mid-Level</td>\n",
              "      <td>Client Success</td>\n",
              "      <td>10</td>\n",
              "      <td>9</td>\n",
              "      <td>2020</td>\n",
              "    </tr>\n",
              "    <tr>\n",
              "      <th>3</th>\n",
              "      <td>Arch</td>\n",
              "      <td>Spinka</td>\n",
              "      <td>elvera_kulas@yahoo.com</td>\n",
              "      <td>2020-10-01</td>\n",
              "      <td>Eritrea</td>\n",
              "      <td>25</td>\n",
              "      <td>Trainee</td>\n",
              "      <td>QA Manual</td>\n",
              "      <td>7</td>\n",
              "      <td>1</td>\n",
              "      <td>2020</td>\n",
              "    </tr>\n",
              "    <tr>\n",
              "      <th>4</th>\n",
              "      <td>Larue</td>\n",
              "      <td>Altenwerth</td>\n",
              "      <td>minnie.gislason@gmail.com</td>\n",
              "      <td>2020-05-20</td>\n",
              "      <td>Myanmar</td>\n",
              "      <td>13</td>\n",
              "      <td>Mid-Level</td>\n",
              "      <td>Social Media Community Management</td>\n",
              "      <td>9</td>\n",
              "      <td>7</td>\n",
              "      <td>2020</td>\n",
              "    </tr>\n",
              "  </tbody>\n",
              "</table>\n",
              "</div>"
            ],
            "text/plain": [
              "   First Name   Last Name                      Email Application Date  \\\n",
              "0  Bernadette   Langworth        leonard91@yahoo.com       2021-02-26   \n",
              "1      Camryn    Reynolds        zelda56@hotmail.com       2021-09-09   \n",
              "2       Larue      Spinka   okey_schultz41@gmail.com       2020-04-14   \n",
              "3        Arch      Spinka     elvera_kulas@yahoo.com       2020-10-01   \n",
              "4       Larue  Altenwerth  minnie.gislason@gmail.com       2020-05-20   \n",
              "\n",
              "   Country  YOE  Seniority                         Technology  \\\n",
              "0   Norway    2     Intern                      Data Engineer   \n",
              "1   Panama   10     Intern                      Data Engineer   \n",
              "2  Belarus    4  Mid-Level                     Client Success   \n",
              "3  Eritrea   25    Trainee                          QA Manual   \n",
              "4  Myanmar   13  Mid-Level  Social Media Community Management   \n",
              "\n",
              "   Code Challenge Score  Technical Interview Score  Application Year  \n",
              "0                     3                          3              2021  \n",
              "1                     2                         10              2021  \n",
              "2                    10                          9              2020  \n",
              "3                     7                          1              2020  \n",
              "4                     9                          7              2020  "
            ]
          },
          "execution_count": 15,
          "metadata": {},
          "output_type": "execute_result"
        }
      ],
      "source": [
        "df.head()"
      ]
    }
  ],
  "metadata": {
    "colab": {
      "provenance": []
    },
    "kernelspec": {
      "display_name": "Python 3",
      "name": "python3"
    },
    "language_info": {
      "codemirror_mode": {
        "name": "ipython",
        "version": 3
      },
      "file_extension": ".py",
      "mimetype": "text/x-python",
      "name": "python",
      "nbconvert_exporter": "python",
      "pygments_lexer": "ipython3",
      "version": "3.10.12"
    }
  },
  "nbformat": 4,
  "nbformat_minor": 0
}
